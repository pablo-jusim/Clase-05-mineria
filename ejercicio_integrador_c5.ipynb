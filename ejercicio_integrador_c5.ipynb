{
 "cells": [
  {
   "cell_type": "markdown",
   "id": "333f2857",
   "metadata": {},
   "source": [
    "# Ejercicio integrador / Mineria de Datos / Semana 05\n",
    "\n",
    "<h4><strong>Estudiante:</strong> Pablo Jusim</h4>"
   ]
  },
  {
   "cell_type": "markdown",
   "id": "e2dbcba0",
   "metadata": {},
   "source": [
    "<strong>Negocio:</strong> Empresa de análisis financiero.  \n",
    "\n",
    "<strong>DataSet:</strong> Información de clientes bancarios.  \n",
    "\n",
    "<strong>Objetivo:</strong> es preparar los datos para un modelo de predicción de solvencia financiera."
   ]
  },
  {
   "cell_type": "markdown",
   "id": "7ab76d37",
   "metadata": {},
   "source": [
    "### Importaciones"
   ]
  },
  {
   "cell_type": "code",
   "execution_count": 1,
   "id": "8f790357",
   "metadata": {},
   "outputs": [],
   "source": [
    "import pandas as pd\n",
    "import seaborn as sns\n",
    "import numpy as np\n",
    "from sklearn.preprocessing import MinMaxScaler, StandardScaler, LabelEncoder"
   ]
  },
  {
   "cell_type": "markdown",
   "id": "8f065197",
   "metadata": {},
   "source": [
    "### Carga (creación) de data set"
   ]
  },
  {
   "cell_type": "code",
   "execution_count": 2,
   "id": "26457a4d",
   "metadata": {},
   "outputs": [
    {
     "data": {
      "application/vnd.microsoft.datawrangler.viewer.v0+json": {
       "columns": [
        {
         "name": "index",
         "rawType": "int64",
         "type": "integer"
        },
        {
         "name": "Cliente",
         "rawType": "int64",
         "type": "integer"
        },
        {
         "name": "Edad",
         "rawType": "int64",
         "type": "integer"
        },
        {
         "name": "Ingresos",
         "rawType": "int64",
         "type": "integer"
        },
        {
         "name": "Historial_Pagos",
         "rawType": "object",
         "type": "string"
        },
        {
         "name": "Categoría",
         "rawType": "object",
         "type": "string"
        }
       ],
       "conversionMethod": "pd.DataFrame",
       "ref": "3b5610b6-55f0-4119-a678-c037013c3755",
       "rows": [
        [
         "0",
         "1",
         "25",
         "50000",
         "Bueno",
         "A"
        ],
        [
         "1",
         "2",
         "40",
         "60000",
         "Regular",
         "B"
        ],
        [
         "2",
         "3",
         "35",
         "70000",
         "Malo",
         "C"
        ],
        [
         "3",
         "4",
         "50",
         "80000",
         "Bueno",
         "A"
        ],
        [
         "4",
         "5",
         "30",
         "45000",
         "Regular",
         "B"
        ]
       ],
       "shape": {
        "columns": 5,
        "rows": 5
       }
      },
      "text/html": [
       "<div>\n",
       "<style scoped>\n",
       "    .dataframe tbody tr th:only-of-type {\n",
       "        vertical-align: middle;\n",
       "    }\n",
       "\n",
       "    .dataframe tbody tr th {\n",
       "        vertical-align: top;\n",
       "    }\n",
       "\n",
       "    .dataframe thead th {\n",
       "        text-align: right;\n",
       "    }\n",
       "</style>\n",
       "<table border=\"1\" class=\"dataframe\">\n",
       "  <thead>\n",
       "    <tr style=\"text-align: right;\">\n",
       "      <th></th>\n",
       "      <th>Cliente</th>\n",
       "      <th>Edad</th>\n",
       "      <th>Ingresos</th>\n",
       "      <th>Historial_Pagos</th>\n",
       "      <th>Categoría</th>\n",
       "    </tr>\n",
       "  </thead>\n",
       "  <tbody>\n",
       "    <tr>\n",
       "      <th>0</th>\n",
       "      <td>1</td>\n",
       "      <td>25</td>\n",
       "      <td>50000</td>\n",
       "      <td>Bueno</td>\n",
       "      <td>A</td>\n",
       "    </tr>\n",
       "    <tr>\n",
       "      <th>1</th>\n",
       "      <td>2</td>\n",
       "      <td>40</td>\n",
       "      <td>60000</td>\n",
       "      <td>Regular</td>\n",
       "      <td>B</td>\n",
       "    </tr>\n",
       "    <tr>\n",
       "      <th>2</th>\n",
       "      <td>3</td>\n",
       "      <td>35</td>\n",
       "      <td>70000</td>\n",
       "      <td>Malo</td>\n",
       "      <td>C</td>\n",
       "    </tr>\n",
       "    <tr>\n",
       "      <th>3</th>\n",
       "      <td>4</td>\n",
       "      <td>50</td>\n",
       "      <td>80000</td>\n",
       "      <td>Bueno</td>\n",
       "      <td>A</td>\n",
       "    </tr>\n",
       "    <tr>\n",
       "      <th>4</th>\n",
       "      <td>5</td>\n",
       "      <td>30</td>\n",
       "      <td>45000</td>\n",
       "      <td>Regular</td>\n",
       "      <td>B</td>\n",
       "    </tr>\n",
       "  </tbody>\n",
       "</table>\n",
       "</div>"
      ],
      "text/plain": [
       "   Cliente  Edad  Ingresos Historial_Pagos Categoría\n",
       "0        1    25     50000           Bueno         A\n",
       "1        2    40     60000         Regular         B\n",
       "2        3    35     70000            Malo         C\n",
       "3        4    50     80000           Bueno         A\n",
       "4        5    30     45000         Regular         B"
      ]
     },
     "execution_count": 2,
     "metadata": {},
     "output_type": "execute_result"
    }
   ],
   "source": [
    "df = pd.DataFrame({\n",
    "\"Cliente\": [1, 2, 3, 4, 5, 6, 7, 8],\n",
    "\"Edad\": [25, 40, 35, 50, 30, 45, 38, 29],\n",
    "\"Ingresos\": [50000, 60000, 70000, 80000, 45000, 85000, 72000, 48000],\n",
    "\"Historial_Pagos\": [\"Bueno\", \"Regular\", \"Malo\", \"Bueno\", \"Regular\", \"Malo\", \"Bueno\", \"Regular\"],\n",
    "\"Categoría\": [\"A\", \"B\", \"C\", \"A\", \"B\", \"C\", \"A\", \"B\"]\n",
    "})\n",
    "df.head()"
   ]
  },
  {
   "cell_type": "markdown",
   "id": "0e396bc5",
   "metadata": {},
   "source": [
    "### PreProcesamiento de datos"
   ]
  },
  {
   "cell_type": "markdown",
   "id": "a1dba1e1",
   "metadata": {},
   "source": [
    "#### Limpieza de datos"
   ]
  },
  {
   "cell_type": "markdown",
   "id": "fed5b9ec",
   "metadata": {},
   "source": [
    "##### Datos nulos"
   ]
  },
  {
   "cell_type": "code",
   "execution_count": 6,
   "id": "60ab7ecb",
   "metadata": {},
   "outputs": [
    {
     "name": "stdout",
     "output_type": "stream",
     "text": [
      "Valores nulos por columna:\n",
      " Cliente            0\n",
      "Edad               0\n",
      "Ingresos           0\n",
      "Historial_Pagos    0\n",
      "Categoría          0\n",
      "dtype: int64\n"
     ]
    }
   ],
   "source": [
    "# Ver cantidad de valores nulos por columna\n",
    "print(\"Valores nulos por columna:\\n\", df.isnull().sum())"
   ]
  },
  {
   "cell_type": "code",
   "execution_count": 8,
   "id": "c66936fc",
   "metadata": {},
   "outputs": [],
   "source": [
    "# Reemplazo de valores nulos por la media de la columna \"Edad\"\n",
    "mode_value = df[\"Edad\"].median()\n",
    "df.loc[:, \"Edad\"] = df[\"Edad\"].fillna(mode_value)\n",
    "# Estas líneas no harán nada ya que no hay valores nulos en el DataFrame"
   ]
  },
  {
   "cell_type": "markdown",
   "id": "db7ff475",
   "metadata": {},
   "source": [
    "##### Outliyers"
   ]
  },
  {
   "cell_type": "code",
   "execution_count": null,
   "id": "ff51bea1",
   "metadata": {},
   "outputs": [
    {
     "name": "stdout",
     "output_type": "stream",
     "text": [
      "Datos eliminados: 0\n"
     ]
    }
   ],
   "source": [
    "# 1️ Cálculo del IQR de ingresos\n",
    "Q1 = df[\"Ingresos\"].quantile(0.25)\n",
    "Q3 = df[\"Ingresos\"].quantile(0.75)\n",
    "IQR = Q3 - Q1\n",
    "\n",
    "# 2️ Definir límites para detectar outliers\n",
    "limite_inferior = Q1 - 1.5 * IQR\n",
    "limite_superior = Q3 + 1.5 * IQR\n",
    "\n",
    "# 3️ Filtrar valores dentro de los límites\n",
    "df_cleaned = df[(df[\"Ingresos\"] >= limite_inferior) & (df[\"Ingresos\"] <= limite_superior)]\n",
    "print(f'Datos eliminados: {df.size - df_cleaned.size}')\n",
    "\n",
    "# No se encontraron outliers en la columna \"Ingresos\" en este caso,\n",
    "# ya que todos los valores están dentro de los límites definidos por el IQR."
   ]
  },
  {
   "cell_type": "markdown",
   "id": "24494c0d",
   "metadata": {},
   "source": [
    "#### Transformación de datos numéricos"
   ]
  },
  {
   "cell_type": "markdown",
   "id": "aee24bc8",
   "metadata": {},
   "source": [
    "##### Normalizar Ingresos"
   ]
  },
  {
   "cell_type": "code",
   "execution_count": 12,
   "id": "df9b0a44",
   "metadata": {},
   "outputs": [],
   "source": [
    "scaler = MinMaxScaler()\n",
    "df_cleaned[\"Ingreso_normalizado\"] = scaler.fit_transform(df_cleaned[[\"Ingresos\"]])"
   ]
  },
  {
   "cell_type": "markdown",
   "id": "71f23c88",
   "metadata": {},
   "source": [
    "##### Estandarizar edad"
   ]
  },
  {
   "cell_type": "code",
   "execution_count": 13,
   "id": "3769bed1",
   "metadata": {},
   "outputs": [
    {
     "data": {
      "application/vnd.microsoft.datawrangler.viewer.v0+json": {
       "columns": [
        {
         "name": "index",
         "rawType": "int64",
         "type": "integer"
        },
        {
         "name": "Cliente",
         "rawType": "int64",
         "type": "integer"
        },
        {
         "name": "Edad",
         "rawType": "int64",
         "type": "integer"
        },
        {
         "name": "Ingresos",
         "rawType": "int64",
         "type": "integer"
        },
        {
         "name": "Historial_Pagos",
         "rawType": "object",
         "type": "string"
        },
        {
         "name": "Categoría",
         "rawType": "object",
         "type": "string"
        },
        {
         "name": "Ingreso_normalizado",
         "rawType": "float64",
         "type": "float"
        },
        {
         "name": "Edad_estandarizada",
         "rawType": "float64",
         "type": "float"
        }
       ],
       "conversionMethod": "pd.DataFrame",
       "ref": "ff78a6f7-dcd1-4dc2-a857-bf7024cea147",
       "rows": [
        [
         "0",
         "1",
         "25",
         "50000",
         "Bueno",
         "A",
         "0.125",
         "-1.4517471271249474"
        ],
        [
         "1",
         "2",
         "40",
         "60000",
         "Regular",
         "B",
         "0.375",
         "0.4418360821684622"
        ],
        [
         "2",
         "3",
         "35",
         "70000",
         "Malo",
         "C",
         "0.625",
         "-0.18935832092934096"
        ],
        [
         "3",
         "4",
         "50",
         "80000",
         "Bueno",
         "A",
         "0.875",
         "1.7042248883640685"
        ],
        [
         "4",
         "5",
         "30",
         "45000",
         "Regular",
         "B",
         "0.0",
         "-0.8205527240271442"
        ]
       ],
       "shape": {
        "columns": 7,
        "rows": 5
       }
      },
      "text/html": [
       "<div>\n",
       "<style scoped>\n",
       "    .dataframe tbody tr th:only-of-type {\n",
       "        vertical-align: middle;\n",
       "    }\n",
       "\n",
       "    .dataframe tbody tr th {\n",
       "        vertical-align: top;\n",
       "    }\n",
       "\n",
       "    .dataframe thead th {\n",
       "        text-align: right;\n",
       "    }\n",
       "</style>\n",
       "<table border=\"1\" class=\"dataframe\">\n",
       "  <thead>\n",
       "    <tr style=\"text-align: right;\">\n",
       "      <th></th>\n",
       "      <th>Cliente</th>\n",
       "      <th>Edad</th>\n",
       "      <th>Ingresos</th>\n",
       "      <th>Historial_Pagos</th>\n",
       "      <th>Categoría</th>\n",
       "      <th>Ingreso_normalizado</th>\n",
       "      <th>Edad_estandarizada</th>\n",
       "    </tr>\n",
       "  </thead>\n",
       "  <tbody>\n",
       "    <tr>\n",
       "      <th>0</th>\n",
       "      <td>1</td>\n",
       "      <td>25</td>\n",
       "      <td>50000</td>\n",
       "      <td>Bueno</td>\n",
       "      <td>A</td>\n",
       "      <td>0.125</td>\n",
       "      <td>-1.451747</td>\n",
       "    </tr>\n",
       "    <tr>\n",
       "      <th>1</th>\n",
       "      <td>2</td>\n",
       "      <td>40</td>\n",
       "      <td>60000</td>\n",
       "      <td>Regular</td>\n",
       "      <td>B</td>\n",
       "      <td>0.375</td>\n",
       "      <td>0.441836</td>\n",
       "    </tr>\n",
       "    <tr>\n",
       "      <th>2</th>\n",
       "      <td>3</td>\n",
       "      <td>35</td>\n",
       "      <td>70000</td>\n",
       "      <td>Malo</td>\n",
       "      <td>C</td>\n",
       "      <td>0.625</td>\n",
       "      <td>-0.189358</td>\n",
       "    </tr>\n",
       "    <tr>\n",
       "      <th>3</th>\n",
       "      <td>4</td>\n",
       "      <td>50</td>\n",
       "      <td>80000</td>\n",
       "      <td>Bueno</td>\n",
       "      <td>A</td>\n",
       "      <td>0.875</td>\n",
       "      <td>1.704225</td>\n",
       "    </tr>\n",
       "    <tr>\n",
       "      <th>4</th>\n",
       "      <td>5</td>\n",
       "      <td>30</td>\n",
       "      <td>45000</td>\n",
       "      <td>Regular</td>\n",
       "      <td>B</td>\n",
       "      <td>0.000</td>\n",
       "      <td>-0.820553</td>\n",
       "    </tr>\n",
       "  </tbody>\n",
       "</table>\n",
       "</div>"
      ],
      "text/plain": [
       "   Cliente  Edad  Ingresos Historial_Pagos Categoría  Ingreso_normalizado  \\\n",
       "0        1    25     50000           Bueno         A                0.125   \n",
       "1        2    40     60000         Regular         B                0.375   \n",
       "2        3    35     70000            Malo         C                0.625   \n",
       "3        4    50     80000           Bueno         A                0.875   \n",
       "4        5    30     45000         Regular         B                0.000   \n",
       "\n",
       "   Edad_estandarizada  \n",
       "0           -1.451747  \n",
       "1            0.441836  \n",
       "2           -0.189358  \n",
       "3            1.704225  \n",
       "4           -0.820553  "
      ]
     },
     "execution_count": 13,
     "metadata": {},
     "output_type": "execute_result"
    }
   ],
   "source": [
    "# Estandarizar Edad con Z-score Scaling\n",
    "scaler = StandardScaler()\n",
    "df_cleaned[\"Edad_estandarizada\"] = scaler.fit_transform(df_cleaned[[\"Edad\"]])\n",
    "df_cleaned.head()"
   ]
  },
  {
   "cell_type": "markdown",
   "id": "0962d97f",
   "metadata": {},
   "source": [
    "#### Transformación de datos categóricos"
   ]
  },
  {
   "cell_type": "markdown",
   "id": "83127a1d",
   "metadata": {},
   "source": [
    "##### Aplicar One-Hot Encoding a la columna Historial de Pagos."
   ]
  },
  {
   "cell_type": "code",
   "execution_count": 14,
   "id": "b8db668a",
   "metadata": {},
   "outputs": [],
   "source": [
    "df_encod = pd.get_dummies(df_cleaned, columns=[\"Historial_Pagos\"], prefix=\"H_pagos\")"
   ]
  },
  {
   "cell_type": "markdown",
   "id": "b6714262",
   "metadata": {},
   "source": [
    "##### Aplicar Label Encoding a la columna Categoría."
   ]
  },
  {
   "cell_type": "code",
   "execution_count": 15,
   "id": "d12c5757",
   "metadata": {},
   "outputs": [
    {
     "data": {
      "application/vnd.microsoft.datawrangler.viewer.v0+json": {
       "columns": [
        {
         "name": "index",
         "rawType": "int64",
         "type": "integer"
        },
        {
         "name": "Cliente",
         "rawType": "int64",
         "type": "integer"
        },
        {
         "name": "Edad",
         "rawType": "int64",
         "type": "integer"
        },
        {
         "name": "Ingresos",
         "rawType": "int64",
         "type": "integer"
        },
        {
         "name": "Categoría",
         "rawType": "int64",
         "type": "integer"
        },
        {
         "name": "Ingreso_normalizado",
         "rawType": "float64",
         "type": "float"
        },
        {
         "name": "Edad_estandarizada",
         "rawType": "float64",
         "type": "float"
        },
        {
         "name": "H_pagos_Bueno",
         "rawType": "bool",
         "type": "boolean"
        },
        {
         "name": "H_pagos_Malo",
         "rawType": "bool",
         "type": "boolean"
        },
        {
         "name": "H_pagos_Regular",
         "rawType": "bool",
         "type": "boolean"
        }
       ],
       "conversionMethod": "pd.DataFrame",
       "ref": "96dd9b91-a7e7-4d8a-b03a-affe4e8ab0b9",
       "rows": [
        [
         "0",
         "1",
         "25",
         "50000",
         "0",
         "0.125",
         "-1.4517471271249474",
         "True",
         "False",
         "False"
        ],
        [
         "1",
         "2",
         "40",
         "60000",
         "1",
         "0.375",
         "0.4418360821684622",
         "False",
         "False",
         "True"
        ],
        [
         "2",
         "3",
         "35",
         "70000",
         "2",
         "0.625",
         "-0.18935832092934096",
         "False",
         "True",
         "False"
        ],
        [
         "3",
         "4",
         "50",
         "80000",
         "0",
         "0.875",
         "1.7042248883640685",
         "True",
         "False",
         "False"
        ],
        [
         "4",
         "5",
         "30",
         "45000",
         "1",
         "0.0",
         "-0.8205527240271442",
         "False",
         "False",
         "True"
        ]
       ],
       "shape": {
        "columns": 9,
        "rows": 5
       }
      },
      "text/html": [
       "<div>\n",
       "<style scoped>\n",
       "    .dataframe tbody tr th:only-of-type {\n",
       "        vertical-align: middle;\n",
       "    }\n",
       "\n",
       "    .dataframe tbody tr th {\n",
       "        vertical-align: top;\n",
       "    }\n",
       "\n",
       "    .dataframe thead th {\n",
       "        text-align: right;\n",
       "    }\n",
       "</style>\n",
       "<table border=\"1\" class=\"dataframe\">\n",
       "  <thead>\n",
       "    <tr style=\"text-align: right;\">\n",
       "      <th></th>\n",
       "      <th>Cliente</th>\n",
       "      <th>Edad</th>\n",
       "      <th>Ingresos</th>\n",
       "      <th>Categoría</th>\n",
       "      <th>Ingreso_normalizado</th>\n",
       "      <th>Edad_estandarizada</th>\n",
       "      <th>H_pagos_Bueno</th>\n",
       "      <th>H_pagos_Malo</th>\n",
       "      <th>H_pagos_Regular</th>\n",
       "    </tr>\n",
       "  </thead>\n",
       "  <tbody>\n",
       "    <tr>\n",
       "      <th>0</th>\n",
       "      <td>1</td>\n",
       "      <td>25</td>\n",
       "      <td>50000</td>\n",
       "      <td>0</td>\n",
       "      <td>0.125</td>\n",
       "      <td>-1.451747</td>\n",
       "      <td>True</td>\n",
       "      <td>False</td>\n",
       "      <td>False</td>\n",
       "    </tr>\n",
       "    <tr>\n",
       "      <th>1</th>\n",
       "      <td>2</td>\n",
       "      <td>40</td>\n",
       "      <td>60000</td>\n",
       "      <td>1</td>\n",
       "      <td>0.375</td>\n",
       "      <td>0.441836</td>\n",
       "      <td>False</td>\n",
       "      <td>False</td>\n",
       "      <td>True</td>\n",
       "    </tr>\n",
       "    <tr>\n",
       "      <th>2</th>\n",
       "      <td>3</td>\n",
       "      <td>35</td>\n",
       "      <td>70000</td>\n",
       "      <td>2</td>\n",
       "      <td>0.625</td>\n",
       "      <td>-0.189358</td>\n",
       "      <td>False</td>\n",
       "      <td>True</td>\n",
       "      <td>False</td>\n",
       "    </tr>\n",
       "    <tr>\n",
       "      <th>3</th>\n",
       "      <td>4</td>\n",
       "      <td>50</td>\n",
       "      <td>80000</td>\n",
       "      <td>0</td>\n",
       "      <td>0.875</td>\n",
       "      <td>1.704225</td>\n",
       "      <td>True</td>\n",
       "      <td>False</td>\n",
       "      <td>False</td>\n",
       "    </tr>\n",
       "    <tr>\n",
       "      <th>4</th>\n",
       "      <td>5</td>\n",
       "      <td>30</td>\n",
       "      <td>45000</td>\n",
       "      <td>1</td>\n",
       "      <td>0.000</td>\n",
       "      <td>-0.820553</td>\n",
       "      <td>False</td>\n",
       "      <td>False</td>\n",
       "      <td>True</td>\n",
       "    </tr>\n",
       "  </tbody>\n",
       "</table>\n",
       "</div>"
      ],
      "text/plain": [
       "   Cliente  Edad  Ingresos  Categoría  Ingreso_normalizado  \\\n",
       "0        1    25     50000          0                0.125   \n",
       "1        2    40     60000          1                0.375   \n",
       "2        3    35     70000          2                0.625   \n",
       "3        4    50     80000          0                0.875   \n",
       "4        5    30     45000          1                0.000   \n",
       "\n",
       "   Edad_estandarizada  H_pagos_Bueno  H_pagos_Malo  H_pagos_Regular  \n",
       "0           -1.451747           True         False            False  \n",
       "1            0.441836          False         False             True  \n",
       "2           -0.189358          False          True            False  \n",
       "3            1.704225           True         False            False  \n",
       "4           -0.820553          False         False             True  "
      ]
     },
     "execution_count": 15,
     "metadata": {},
     "output_type": "execute_result"
    }
   ],
   "source": [
    "# Aplicar Label Encoding a la columna Categoría\n",
    "le = LabelEncoder()\n",
    "df_encod[\"Categoría\"] = le.fit_transform(df_encod[\"Categoría\"])\n",
    "df_encod.head()"
   ]
  },
  {
   "cell_type": "markdown",
   "id": "24041d7e",
   "metadata": {},
   "source": [
    "## 4️. Interacción con una Herramienta de IA (LLM)"
   ]
  }
 ],
 "metadata": {
  "kernelspec": {
   "display_name": "Python 3",
   "language": "python",
   "name": "python3"
  },
  "language_info": {
   "codemirror_mode": {
    "name": "ipython",
    "version": 3
   },
   "file_extension": ".py",
   "mimetype": "text/x-python",
   "name": "python",
   "nbconvert_exporter": "python",
   "pygments_lexer": "ipython3",
   "version": "3.13.0"
  }
 },
 "nbformat": 4,
 "nbformat_minor": 5
}
